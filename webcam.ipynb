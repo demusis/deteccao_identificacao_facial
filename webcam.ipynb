{
 "cells": [
  {
   "cell_type": "code",
   "execution_count": 1,
   "id": "unknown-jewel",
   "metadata": {},
   "outputs": [],
   "source": [
    "import cv2\n",
    "import face_recognition\n",
    "from flask import Flask, render_template, Response\n",
    "import time"
   ]
  },
  {
   "cell_type": "code",
   "execution_count": 2,
   "id": "departmental-cover",
   "metadata": {},
   "outputs": [],
   "source": [
    "#Inicializa a aplicação Flask\n",
    "app = Flask(__name__)"
   ]
  },
  {
   "cell_type": "code",
   "execution_count": 3,
   "id": "coated-nowhere",
   "metadata": {},
   "outputs": [],
   "source": [
    "'''\n",
    "Inicializa a captura pelo OpenCV\n",
    "\n",
    "Câmera ip: rtsp://username:password@ip_address:554/user=username_password='password'_channel=channel_number_stream=0.sdp' \n",
    "Webcam: cv2.VideoCapture(0)\n",
    "http://help.angelcam.com/en/articles/372649-finding-rtsp-addresses-for-ip-cameras-nvrs-dvrs\n",
    "'''\n",
    "\n",
    "camera = cv2.VideoCapture(0)\n",
    "anterior = time.time()\n",
    "fpsLimite = 1 "
   ]
  },
  {
   "cell_type": "code",
   "execution_count": 4,
   "id": "soviet-soundtrack",
   "metadata": {},
   "outputs": [
    {
     "data": {
      "text/plain": [
       "1615128378.1381989"
      ]
     },
     "execution_count": 4,
     "metadata": {},
     "output_type": "execute_result"
    }
   ],
   "source": [
    "anterior"
   ]
  },
  {
   "cell_type": "code",
   "execution_count": 5,
   "id": "virgin-calgary",
   "metadata": {},
   "outputs": [
    {
     "data": {
      "text/plain": [
       "1615128378.1634567"
      ]
     },
     "execution_count": 5,
     "metadata": {},
     "output_type": "execute_result"
    }
   ],
   "source": [
    "agora = time.time()\n",
    "agora"
   ]
  },
  {
   "cell_type": "code",
   "execution_count": 6,
   "id": "literary-monkey",
   "metadata": {},
   "outputs": [],
   "source": [
    "# Adiciona janela e gera os frames para a câmera\n",
    "\n",
    "def gen_frames():\n",
    "    global anterior\n",
    "    while True:\n",
    "        sucesso, frame = camera.read()  # Lê frame\n",
    "        agora = time.time()\n",
    "        if (agora - anterior) > fpsLimite:\n",
    "            anterior = agora\n",
    "            rgb_frame = frame[:, :, ::-1]\n",
    "            locacao_faces = face_recognition.face_locations(rgb_frame)\n",
    "            if not sucesso:\n",
    "                break\n",
    "            else:            \n",
    "                for (topo, direita, base, esquerda) in locacao_faces:\n",
    "                    cv2.rectangle(frame, (esquerda, topo), (direita, base), (0, 0, 255), 2)\n",
    "                ret, buffer = cv2.imencode('.jpg', frame)\n",
    "                frame = buffer.tobytes()\n",
    "                yield (b'--frame\\r\\n'\n",
    "                       b'Content-Type: image/jpeg\\r\\n\\r\\n' + frame + b'\\r\\n')  # Concatena e mostra resultado"
   ]
  },
  {
   "cell_type": "code",
   "execution_count": 7,
   "id": "phantom-horror",
   "metadata": {},
   "outputs": [],
   "source": [
    "# Define uma rota para a aplicação web\n",
    "\n",
    "@app.route('/')\n",
    "def index():\n",
    "    return render_template('index.html')"
   ]
  },
  {
   "cell_type": "code",
   "execution_count": 8,
   "id": "limited-luxembourg",
   "metadata": {},
   "outputs": [],
   "source": [
    "# Define uma rota para o stream de video\n",
    "\n",
    "@app.route('/stream_video')\n",
    "def stream_video():\n",
    "    return Response(gen_frames(), mimetype='multipart/x-mixed-replace; boundary=frame')"
   ]
  },
  {
   "cell_type": "code",
   "execution_count": 9,
   "id": "valued-condition",
   "metadata": {},
   "outputs": [
    {
     "name": "stdout",
     "output_type": "stream",
     "text": [
      " * Serving Flask app \"__main__\" (lazy loading)\n",
      " * Environment: production\n",
      "\u001b[31m   WARNING: This is a development server. Do not use it in a production deployment.\u001b[0m\n",
      "\u001b[2m   Use a production WSGI server instead.\u001b[0m\n",
      " * Debug mode: off\n"
     ]
    },
    {
     "name": "stderr",
     "output_type": "stream",
     "text": [
      " * Running on http://127.0.0.1:5001/ (Press CTRL+C to quit)\n",
      "127.0.0.1 - - [07/Mar/2021 10:46:22] \"\u001b[37mGET / HTTP/1.1\u001b[0m\" 200 -\n",
      "127.0.0.1 - - [07/Mar/2021 10:46:24] \"\u001b[37mGET /stream_video HTTP/1.1\u001b[0m\" 200 -\n"
     ]
    }
   ],
   "source": [
    "# Inicia o servidor Flask\n",
    "if __name__ == \"__main__\":\n",
    "    app.run(host='127.0.0.1', port=5001, debug=False)"
   ]
  }
 ],
 "metadata": {
  "kernelspec": {
   "display_name": "Python 3",
   "language": "python",
   "name": "python3"
  },
  "language_info": {
   "codemirror_mode": {
    "name": "ipython",
    "version": 3
   },
   "file_extension": ".py",
   "mimetype": "text/x-python",
   "name": "python",
   "nbconvert_exporter": "python",
   "pygments_lexer": "ipython3",
   "version": "3.6.13"
  }
 },
 "nbformat": 4,
 "nbformat_minor": 5
}
