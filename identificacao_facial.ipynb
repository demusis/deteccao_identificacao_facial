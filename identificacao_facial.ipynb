{
 "cells": [
  {
   "cell_type": "code",
   "execution_count": 1,
   "metadata": {},
   "outputs": [],
   "source": [
    "# Identificação facial"
   ]
  },
  {
   "cell_type": "code",
   "execution_count": 2,
   "metadata": {},
   "outputs": [],
   "source": [
    "import os\n",
    "import numpy as np\n",
    "import cv2\n",
    "import face_recognition\n",
    "from sklearn import svm"
   ]
  },
  {
   "cell_type": "code",
   "execution_count": 3,
   "metadata": {},
   "outputs": [],
   "source": [
    "import statistics\n",
    "import math"
   ]
  },
  {
   "cell_type": "code",
   "execution_count": 4,
   "metadata": {},
   "outputs": [],
   "source": [
    "diretorio_trabalho = '/home/pi/Documents/Identificação facial/Indivíduos/'\n",
    "os.chdir(diretorio_trabalho)"
   ]
  },
  {
   "cell_type": "code",
   "execution_count": 5,
   "metadata": {},
   "outputs": [],
   "source": [
    "class Pessoa:\n",
    "    def __init__(self, nome='Não definido'):\n",
    "        self.nome = nome\n",
    "        self.minuncias = []\n",
    "\n",
    "    def calculaMinuncia(self, endereco_imagem):  \n",
    "        imagem = face_recognition.load_image_file(endereco_imagem)\n",
    "        minuncia = face_recognition.face_encodings(imagem)[0]\n",
    "        self.minuncias.append(minuncia)     \n",
    "    \n",
    "    def minunciaMatch(self, face_minuncias):\n",
    "        dist = []\n",
    "        for aux_minuncias in self.minuncias:\n",
    "            dist.append(np.linalg.norm(face_minuncias-aux_minuncias))\n",
    "        mediana = statistics.median(dist)      \n",
    "        return mediana"
   ]
  },
  {
   "cell_type": "code",
   "execution_count": 6,
   "metadata": {},
   "outputs": [],
   "source": [
    "# Cria \"Jaime\".\n",
    "jaime = Pessoa('Jaime')\n",
    "jaime.calculaMinuncia(diretorio_trabalho+'Jaime/WhatsApp Image 2021-02-10 at 10.59.35.jpeg')\n",
    "jaime.calculaMinuncia(diretorio_trabalho+'Jaime/WhatsApp Image 2021-02-10 at 10.59.36.jpeg')\n",
    "jaime.calculaMinuncia(diretorio_trabalho+'Jaime/WhatsApp Image 2021-02-10 at 10.59.36 (1).jpeg')\n",
    "jaime.calculaMinuncia(diretorio_trabalho+'Jaime/WhatsApp Image 2021-02-10 at 10.59.37.jpeg')\n",
    "jaime.calculaMinuncia(diretorio_trabalho+'Jaime/WhatsApp Image 2021-02-10 at 10.59.37 (1).jpeg')"
   ]
  },
  {
   "cell_type": "code",
   "execution_count": 7,
   "metadata": {},
   "outputs": [],
   "source": [
    "# Cria \"Obama\".\n",
    "obama = Pessoa('Obama')\n",
    "obama.calculaMinuncia(diretorio_trabalho+'Obama/obama.jpg')\n",
    "obama.calculaMinuncia(diretorio_trabalho+'Obama/obama2.jpg')"
   ]
  },
  {
   "cell_type": "code",
   "execution_count": 8,
   "metadata": {},
   "outputs": [],
   "source": [
    "# Cria \"Priscila\".\n",
    "priscila = Pessoa('Priscila')\n",
    "priscila.calculaMinuncia(diretorio_trabalho+'Priscila/WhatsApp Image 2021-02-10 at 10.58.17.jpeg')\n",
    "priscila.calculaMinuncia(diretorio_trabalho+'Priscila/WhatsApp Image 2021-02-10 at 10.58.18.jpeg')\n",
    "priscila.calculaMinuncia(diretorio_trabalho+'Priscila/WhatsApp Image 2021-02-10 at 10.58.18 (1).jpeg')\n",
    "priscila.calculaMinuncia(diretorio_trabalho+'Priscila/WhatsApp Image 2021-02-10 at 10.58.19.jpeg')"
   ]
  },
  {
   "cell_type": "code",
   "execution_count": 9,
   "metadata": {},
   "outputs": [
    {
     "name": "stdout",
     "output_type": "stream",
     "text": [
      "Face detectada.\n"
     ]
    }
   ],
   "source": [
    "# Calcula as minuncias de uma imagem qualquer.\n",
    "endereco_imagem = diretorio_trabalho+'Obama2.jpg'\n",
    "imagem = face_recognition.load_image_file(endereco_imagem)\n",
    "faces_locacoes = face_recognition.face_locations(imagem)\n",
    "face_minuncias = None\n",
    "n_faces = len(faces_locacoes)\n",
    "if n_faces==1:\n",
    "    print(\"Face detectada.\")\n",
    "    face_minuncias = face_recognition.face_encodings(imagem)[0]\n",
    "elif n_faces==0:\n",
    "    print(\"Nenhuma face detectada!\")\n",
    "else:\n",
    "    print(\"Mais de uma face detectada!\")       "
   ]
  },
  {
   "cell_type": "code",
   "execution_count": 10,
   "metadata": {
    "scrolled": true
   },
   "outputs": [
    {
     "name": "stdout",
     "output_type": "stream",
     "text": [
      "0.20772843915292652\n"
     ]
    }
   ],
   "source": [
    "# Obtem o match simples.\n",
    "print(obama.minunciaMatch(face_minuncias))"
   ]
  },
  {
   "cell_type": "code",
   "execution_count": 11,
   "metadata": {},
   "outputs": [
    {
     "name": "stdout",
     "output_type": "stream",
     "text": [
      "0.7213100677673254\n"
     ]
    }
   ],
   "source": [
    "print(jaime.minunciaMatch(face_minuncias))"
   ]
  },
  {
   "cell_type": "code",
   "execution_count": 12,
   "metadata": {},
   "outputs": [
    {
     "name": "stdout",
     "output_type": "stream",
     "text": [
      "0.808541783093114\n"
     ]
    }
   ],
   "source": [
    "print(priscila.minunciaMatch(face_minuncias))"
   ]
  },
  {
   "cell_type": "code",
   "execution_count": 13,
   "metadata": {},
   "outputs": [],
   "source": [
    "class grupoPessoas:\n",
    "    def __init__(self, nome='Não definido'):\n",
    "        self.nome = nome\n",
    "        self.pessoas = []\n",
    "    \n",
    "    def inserePessoa(self, pessoa):\n",
    "        self.pessoas.append(pessoa)\n",
    "        \n",
    "    def buscaPessoa(self, nome):\n",
    "        pessoa = None\n",
    "        for aux_pessoa in self.pessoas:\n",
    "            if aux_pessoa.nome==nome:\n",
    "                pessoa = aux_pessoa\n",
    "        return pessoa              \n",
    "        \n",
    "    def mostraMinuncias(self):\n",
    "        minuncias = []\n",
    "        nomes = []\n",
    "        for aux_pessoa in self.pessoas:\n",
    "            minuncias = minuncias+aux_pessoa.minuncias\n",
    "            nomes = nomes+[aux_pessoa.nome]*len(aux_pessoa.minuncias)\n",
    "        return {'minuncias': minuncias, 'nomes': nomes}\n",
    "    \n",
    "    def calibraClassificador(self):\n",
    "        self.clf = svm.SVC(gamma='scale')\n",
    "        aux_minuncias = self.mostraMinuncias()\n",
    "        self.clf.fit(aux_minuncias[\"minuncias\"], aux_minuncias[\"nomes\"])\n",
    "        return self.clf.score(aux_minuncias[\"minuncias\"], aux_minuncias[\"nomes\"])\n",
    "    \n",
    "    def identificaPessoaSVM(self, face_minuncias):\n",
    "        nome = self.clf.predict([face_minuncias])[0]\n",
    "        escore = self.buscaPessoa(nome).minunciaMatch(face_minuncias)\n",
    "        return {'nome': nome, 'escore':escore}\n",
    "    \n",
    "    def identificaPessoaMD(self, face_minuncias):\n",
    "        nome = None\n",
    "        distancia = math.inf\n",
    "        for aux_pessoa in self.pessoas:\n",
    "            aux_distancia = aux_pessoa.minunciaMatch(face_minuncias)\n",
    "            if aux_distancia<distancia:\n",
    "                distancia = aux_distancia\n",
    "                nome = aux_pessoa.nome\n",
    "        return {'nome': nome, 'distancia':distancia}\n",
    "    \n",
    "    "
   ]
  },
  {
   "cell_type": "code",
   "execution_count": 14,
   "metadata": {},
   "outputs": [],
   "source": [
    "grupo_teste = grupoPessoas(\"teste\")"
   ]
  },
  {
   "cell_type": "code",
   "execution_count": 15,
   "metadata": {},
   "outputs": [],
   "source": [
    "grupo_teste.inserePessoa(jaime)\n",
    "grupo_teste.inserePessoa(priscila)\n",
    "grupo_teste.inserePessoa(obama)"
   ]
  },
  {
   "cell_type": "code",
   "execution_count": 16,
   "metadata": {},
   "outputs": [
    {
     "data": {
      "text/plain": [
       "'Jaime'"
      ]
     },
     "execution_count": 16,
     "metadata": {},
     "output_type": "execute_result"
    }
   ],
   "source": [
    "grupo_teste.buscaPessoa('Jaime').nome"
   ]
  },
  {
   "cell_type": "code",
   "execution_count": 17,
   "metadata": {},
   "outputs": [
    {
     "data": {
      "text/plain": [
       "0.8181818181818182"
      ]
     },
     "execution_count": 17,
     "metadata": {},
     "output_type": "execute_result"
    }
   ],
   "source": [
    "grupo_teste.calibraClassificador()"
   ]
  },
  {
   "cell_type": "code",
   "execution_count": 22,
   "metadata": {},
   "outputs": [
    {
     "data": {
      "text/plain": [
       "{'nome': 'Jaime', 'escore': 0.7213100677673254}"
      ]
     },
     "execution_count": 22,
     "metadata": {},
     "output_type": "execute_result"
    }
   ],
   "source": [
    "grupo_teste.identificaPessoaSVM(face_minuncias)"
   ]
  },
  {
   "cell_type": "code",
   "execution_count": 23,
   "metadata": {},
   "outputs": [
    {
     "data": {
      "text/plain": [
       "{'nome': 'Obama', 'distancia': 0.20772843915292652}"
      ]
     },
     "execution_count": 23,
     "metadata": {},
     "output_type": "execute_result"
    }
   ],
   "source": [
    "grupo_teste.identificaPessoaMD(face_minuncias)"
   ]
  }
 ],
 "metadata": {
  "kernelspec": {
   "display_name": "Python 3",
   "language": "python",
   "name": "python3"
  },
  "language_info": {
   "codemirror_mode": {
    "name": "ipython",
    "version": 3
   },
   "file_extension": ".py",
   "mimetype": "text/x-python",
   "name": "python",
   "nbconvert_exporter": "python",
   "pygments_lexer": "ipython3",
   "version": "3.7.3"
  }
 },
 "nbformat": 4,
 "nbformat_minor": 4
}
