{
 "cells": [
  {
   "cell_type": "code",
   "execution_count": 1,
   "metadata": {},
   "outputs": [],
   "source": [
    "# Identificação facial"
   ]
  },
  {
   "cell_type": "code",
   "execution_count": 2,
   "metadata": {},
   "outputs": [],
   "source": [
    "import os\n",
    "import numpy as np\n",
    "import cv2\n",
    "import face_recognition"
   ]
  },
  {
   "cell_type": "code",
   "execution_count": 6,
   "metadata": {},
   "outputs": [],
   "source": [
    "diretorio_trabalho = '/home/pi/Documents/Identificação facial/Indivíduos/'\n",
    "os.chdir(diretorio_trabalho)"
   ]
  },
  {
   "cell_type": "code",
   "execution_count": 87,
   "metadata": {},
   "outputs": [],
   "source": [
    "class Pessoa:\n",
    "    def __init__(self, nome='Não definido'):\n",
    "        self.nome = nome\n",
    "        self.minuncias = []\n",
    "\n",
    "    def calculaMinuncia(self, endereco_imagem):  \n",
    "        imagem = face_recognition.load_image_file(endereco_imagem)\n",
    "        minuncia = face_recognition.face_encodings(imagem)[0]\n",
    "        self.minuncias.append(minuncia)     \n",
    "    \n",
    "    def imagemMatch(self, face_minuncias):\n",
    "        dist = 0\n",
    "        for aux_minuncias in self.minuncias:\n",
    "            dist = dist + np.linalg.norm(face_minuncias-aux_minuncias)\n",
    "        dist = dist/len(self.minuncias)      \n",
    "        return dist"
   ]
  },
  {
   "cell_type": "code",
   "execution_count": 88,
   "metadata": {},
   "outputs": [],
   "source": [
    "obama = Pessoa('Obama')"
   ]
  },
  {
   "cell_type": "code",
   "execution_count": 89,
   "metadata": {},
   "outputs": [],
   "source": [
    "obama.calculaMinuncia(diretorio_trabalho+'Obama/obama.jpg')\n",
    "obama.calculaMinuncia(diretorio_trabalho+'Jaime/WhatsApp Image 2021-02-10 at 10.59.35.jpeg')"
   ]
  },
  {
   "cell_type": "code",
   "execution_count": 59,
   "metadata": {},
   "outputs": [
    {
     "name": "stdout",
     "output_type": "stream",
     "text": [
      "Face detectada.\n"
     ]
    }
   ],
   "source": [
    "endereco_imagem = diretorio_trabalho+'Obama/obama.jpg'\n",
    "imagem = face_recognition.load_image_file(endereco_imagem)\n",
    "faces_locacoes = face_recognition.face_locations(imagem)\n",
    "face_minuncias = None\n",
    "n_faces = len(faces_locacoes)\n",
    "if n_faces==1:\n",
    "    print(\"Face detectada.\")\n",
    "    face_minuncias = face_recognition.face_encodings(imagem)[0]\n",
    "elif n_faces==0:\n",
    "    print(\"Nenhuma face detectada!\")\n",
    "else:\n",
    "    print(\"Mais de uma face detectada!\")       "
   ]
  },
  {
   "cell_type": "code",
   "execution_count": 97,
   "metadata": {
    "scrolled": true
   },
   "outputs": [
    {
     "name": "stdout",
     "output_type": "stream",
     "text": [
      "0.3513959518108559\n"
     ]
    }
   ],
   "source": [
    "print(obama.imagemMatch(face_minuncias))"
   ]
  }
 ],
 "metadata": {
  "kernelspec": {
   "display_name": "Python 3",
   "language": "python",
   "name": "python3"
  },
  "language_info": {
   "codemirror_mode": {
    "name": "ipython",
    "version": 3
   },
   "file_extension": ".py",
   "mimetype": "text/x-python",
   "name": "python",
   "nbconvert_exporter": "python",
   "pygments_lexer": "ipython3",
   "version": "3.7.3"
  }
 },
 "nbformat": 4,
 "nbformat_minor": 4
}
