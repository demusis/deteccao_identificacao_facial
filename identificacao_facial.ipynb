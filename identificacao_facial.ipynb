{
 "cells": [
  {
   "cell_type": "code",
   "execution_count": 1,
   "metadata": {},
   "outputs": [],
   "source": [
    "# Identificação facial"
   ]
  },
  {
   "cell_type": "code",
   "execution_count": 2,
   "metadata": {},
   "outputs": [],
   "source": [
    "import os\n",
    "import numpy as np\n",
    "import cv2\n",
    "import face_recognition"
   ]
  },
  {
   "cell_type": "code",
   "execution_count": 3,
   "metadata": {},
   "outputs": [],
   "source": [
    "diretorio_trabalho = '/home/pi/Documents/Identificação facial/Indivíduos/'\n",
    "os.chdir(diretorio_trabalho)"
   ]
  },
  {
   "cell_type": "code",
   "execution_count": 4,
   "metadata": {},
   "outputs": [],
   "source": [
    "class Pessoa:\n",
    "    def __init__(self, nome='Não definido'):\n",
    "        self.nome = nome\n",
    "        self.minuncias = []\n",
    "\n",
    "    def calculaMinuncia(self, endereco_imagem):  \n",
    "        imagem = face_recognition.load_image_file(endereco_imagem)\n",
    "        minuncia = face_recognition.face_encodings(imagem)[0]\n",
    "        self.minuncias.append(minuncia)     \n",
    "    \n",
    "    def imagemMatch(self, face_minuncias):\n",
    "        dist = 0\n",
    "        for aux_minuncias in self.minuncias:\n",
    "            dist = dist + np.linalg.norm(face_minuncias-aux_minuncias)\n",
    "        dist = dist/len(self.minuncias)      \n",
    "        return dist"
   ]
  },
  {
   "cell_type": "code",
   "execution_count": 5,
   "metadata": {},
   "outputs": [],
   "source": [
    "# Cria \"Jaime\".\n",
    "jaime = Pessoa('Jaime')\n",
    "jaime.calculaMinuncia(diretorio_trabalho+'Jaime/WhatsApp Image 2021-02-10 at 10.59.35.jpeg')\n",
    "jaime.calculaMinuncia(diretorio_trabalho+'Jaime/WhatsApp Image 2021-02-10 at 10.59.36.jpeg')\n",
    "jaime.calculaMinuncia(diretorio_trabalho+'Jaime/WhatsApp Image 2021-02-10 at 10.59.36 (1).jpeg')\n",
    "jaime.calculaMinuncia(diretorio_trabalho+'Jaime/WhatsApp Image 2021-02-10 at 10.59.37.jpeg')\n",
    "jaime.calculaMinuncia(diretorio_trabalho+'Jaime/WhatsApp Image 2021-02-10 at 10.59.37 (1).jpeg')"
   ]
  },
  {
   "cell_type": "code",
   "execution_count": 6,
   "metadata": {},
   "outputs": [],
   "source": [
    "# Cria \"Obama\".\n",
    "obama = Pessoa('Obama')\n",
    "obama.calculaMinuncia(diretorio_trabalho+'Obama/obama.jpg')"
   ]
  },
  {
   "cell_type": "code",
   "execution_count": 20,
   "metadata": {},
   "outputs": [],
   "source": [
    "# Cria \"Priscila\".\n",
    "priscila = Pessoa('Priscila')\n",
    "priscila.calculaMinuncia(diretorio_trabalho+'Priscila/WhatsApp Image 2021-02-10 at 10.58.17.jpeg')\n",
    "priscila.calculaMinuncia(diretorio_trabalho+'Priscila/WhatsApp Image 2021-02-10 at 10.58.18.jpeg')\n",
    "priscila.calculaMinuncia(diretorio_trabalho+'Priscila/WhatsApp Image 2021-02-10 at 10.58.18 (1).jpeg')\n",
    "priscila.calculaMinuncia(diretorio_trabalho+'Priscila/WhatsApp Image 2021-02-10 at 10.58.19.jpeg')"
   ]
  },
  {
   "cell_type": "code",
   "execution_count": 16,
   "metadata": {},
   "outputs": [
    {
     "name": "stdout",
     "output_type": "stream",
     "text": [
      "Face detectada.\n"
     ]
    }
   ],
   "source": [
    "# Calcula as minuncias de uma imagem qualquer.\n",
    "endereco_imagem = diretorio_trabalho+'Obama2.jpg'\n",
    "imagem = face_recognition.load_image_file(endereco_imagem)\n",
    "faces_locacoes = face_recognition.face_locations(imagem)\n",
    "face_minuncias = None\n",
    "n_faces = len(faces_locacoes)\n",
    "if n_faces==1:\n",
    "    print(\"Face detectada.\")\n",
    "    face_minuncias = face_recognition.face_encodings(imagem)[0]\n",
    "elif n_faces==0:\n",
    "    print(\"Nenhuma face detectada!\")\n",
    "else:\n",
    "    print(\"Mais de uma face detectada!\")       "
   ]
  },
  {
   "cell_type": "code",
   "execution_count": 17,
   "metadata": {
    "scrolled": true
   },
   "outputs": [
    {
     "name": "stdout",
     "output_type": "stream",
     "text": [
      "0.41545687830585304\n"
     ]
    }
   ],
   "source": [
    "# Obtem o match simples.\n",
    "print(obama.imagemMatch(face_minuncias))"
   ]
  },
  {
   "cell_type": "code",
   "execution_count": 21,
   "metadata": {},
   "outputs": [
    {
     "name": "stdout",
     "output_type": "stream",
     "text": [
      "0.7312607231844565\n"
     ]
    }
   ],
   "source": [
    "print(jaime.imagemMatch(face_minuncias))"
   ]
  },
  {
   "cell_type": "code",
   "execution_count": 22,
   "metadata": {},
   "outputs": [
    {
     "name": "stdout",
     "output_type": "stream",
     "text": [
      "0.8087826078959571\n"
     ]
    }
   ],
   "source": [
    "print(priscila.imagemMatch(face_minuncias))"
   ]
  },
  {
   "cell_type": "code",
   "execution_count": 23,
   "metadata": {},
   "outputs": [],
   "source": [
    "class grupoPessoas:\n",
    "    def __init__(self, nome='Não definido'):\n",
    "        self.nome = nome\n",
    "        self.pessoas = []\n",
    "    \n",
    "    def inserePessoa(self, pessoa):\n",
    "        self.pessoas.append(pessoa)\n",
    "        \n",
    "    def minuncias():\n",
    "        minuncias = []\n",
    "        nomes = []\n",
    "        for aux_pessoa in self.pessoas:\n",
    "            self.minuncias.append(aux_pessoa.minuncias[:])\n",
    "            self.nomes.append([aux_pessoa.nome]*len(aux_pessoa))\n",
    "        return {'minuncias': minuncias, 'nomes': nomes}\n",
    "    \n",
    "    def calibraClassificador(self):\n",
    "        pass\n",
    "    "
   ]
  }
 ],
 "metadata": {
  "kernelspec": {
   "display_name": "Python 3",
   "language": "python",
   "name": "python3"
  },
  "language_info": {
   "codemirror_mode": {
    "name": "ipython",
    "version": 3
   },
   "file_extension": ".py",
   "mimetype": "text/x-python",
   "name": "python",
   "nbconvert_exporter": "python",
   "pygments_lexer": "ipython3",
   "version": "3.7.3"
  }
 },
 "nbformat": 4,
 "nbformat_minor": 4
}
